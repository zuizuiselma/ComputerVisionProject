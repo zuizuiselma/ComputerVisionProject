{
 "cells": [
  {
   "cell_type": "markdown",
   "metadata": {},
   "source": [
    "# Homework done by : Selma Zouitina / Nizar Madani"
   ]
  },
  {
   "cell_type": "code",
   "execution_count": 1,
   "metadata": {
    "colab": {
     "base_uri": "https://localhost:8080/",
     "height": 1000
    },
    "id": "9suxK0ozku_O",
    "outputId": "41983a60-f202-49e3-bcb8-8ead59ca4bb8"
   },
   "outputs": [
    {
     "name": "stdout",
     "output_type": "stream",
     "text": [
      "Downloading data from https://www.cs.toronto.edu/~kriz/cifar-10-python.tar.gz\n",
      "170498071/170498071 [==============================] - 6s 0us/step\n",
      "Epoch 1/10\n",
      "1563/1563 [==============================] - 81s 49ms/step - loss: 0.4066 - accuracy: 0.8304 - val_loss: 0.4176 - val_accuracy: 0.8360\n",
      "Epoch 2/10\n",
      "1563/1563 [==============================] - 78s 50ms/step - loss: 0.3390 - accuracy: 0.8603 - val_loss: 0.3237 - val_accuracy: 0.8671\n",
      "Epoch 3/10\n",
      "1563/1563 [==============================] - 73s 47ms/step - loss: 0.3058 - accuracy: 0.8753 - val_loss: 0.3047 - val_accuracy: 0.8765\n",
      "Epoch 4/10\n",
      "1563/1563 [==============================] - 72s 46ms/step - loss: 0.2808 - accuracy: 0.8864 - val_loss: 0.2832 - val_accuracy: 0.8868\n",
      "Epoch 5/10\n",
      "1563/1563 [==============================] - 73s 47ms/step - loss: 0.2615 - accuracy: 0.8963 - val_loss: 0.2894 - val_accuracy: 0.8872\n",
      "Epoch 6/10\n",
      "1563/1563 [==============================] - 73s 47ms/step - loss: 0.2436 - accuracy: 0.9025 - val_loss: 0.2885 - val_accuracy: 0.8871\n",
      "Epoch 7/10\n",
      "1563/1563 [==============================] - 72s 46ms/step - loss: 0.2253 - accuracy: 0.9095 - val_loss: 0.2784 - val_accuracy: 0.8943\n",
      "Epoch 8/10\n",
      "1563/1563 [==============================] - 77s 49ms/step - loss: 0.2067 - accuracy: 0.9176 - val_loss: 0.2922 - val_accuracy: 0.8905\n",
      "Epoch 9/10\n",
      "1563/1563 [==============================] - 78s 50ms/step - loss: 0.1879 - accuracy: 0.9260 - val_loss: 0.2802 - val_accuracy: 0.8956\n",
      "Epoch 10/10\n",
      "1563/1563 [==============================] - 73s 47ms/step - loss: 0.1693 - accuracy: 0.9331 - val_loss: 0.2949 - val_accuracy: 0.8897\n",
      "313/313 [==============================] - 4s 12ms/step\n",
      "Classification Report:\n",
      "              precision    recall  f1-score   support\n",
      "\n",
      "           0       0.93      0.93      0.93      8000\n",
      "           1       0.73      0.72      0.72      2000\n",
      "\n",
      "    accuracy                           0.89     10000\n",
      "   macro avg       0.83      0.83      0.83     10000\n",
      "weighted avg       0.89      0.89      0.89     10000\n",
      "\n",
      "Confusion Matrix:\n"
     ]
    },
    {
     "data": {
      "image/png": "[encoded data removed]",
      "text/plain": [
       "<Figure size 640x480 with 2 Axes>"
      ]
     },
     "metadata": {},
     "output_type": "display_data"
    },
    {
     "name": "stdout",
     "output_type": "stream",
     "text": [
      "Precision: 0.7262\n",
      "Recall: 0.7200\n",
      "F1 Score: 0.7231\n",
      "Accuracy: 0.8897\n"
     ]
    }
   ],
   "source": [
    "import numpy as np\n",
    "import tensorflow as tf\n",
    "from tensorflow.keras import datasets, layers, models\n",
    "from sklearn.metrics import classification_report, confusion_matrix, precision_score, recall_score, f1_score, accuracy_score\n",
    "import seaborn as sns\n",
    "import matplotlib.pyplot as plt\n",
    "\n",
    "# Load and preprocess CIFAR-10 dataset\n",
    "def load_preprocess_data():\n",
    "    (train_images, train_labels), (test_images, test_labels) = datasets.cifar10.load_data()\n",
    "    train_labels = train_labels.flatten()\n",
    "    test_labels = test_labels.flatten()\n",
    "\n",
    "    # Define classes that can fly (1) and cannot fly (0)\n",
    "    can_fly = [0, 2]  # airplane, bird\n",
    "    cannot_fly = [1, 3, 4, 5, 6, 7, 8, 9]  # all other classes\n",
    "\n",
    "    # Create binary labels for the new task\n",
    "    train_labels = np.array([1 if label in can_fly else 0 for label in train_labels])\n",
    "    test_labels = np.array([1 if label in can_fly else 0 for label in test_labels])\n",
    "\n",
    "    # Normalize pixel values to be between 0 and 1\n",
    "    train_images, test_images = train_images / 255.0, test_images / 255.0\n",
    "\n",
    "    return train_images, train_labels, test_images, test_labels\n",
    "\n",
    "# Build the CNN model\n",
    "def build_model():\n",
    "    model = models.Sequential()\n",
    "    model.add(layers.Conv2D(32, (3, 3), activation='relu', input_shape=(32, 32, 3)))\n",
    "    model.add(layers.MaxPooling2D((2, 2)))\n",
    "    model.add(layers.Conv2D(64, (3, 3), activation='relu'))\n",
    "    model.add(layers.MaxPooling2D((2, 2)))\n",
    "    model.add(layers.Conv2D(64, (3, 3), activation='relu'))\n",
    "    model.add(layers.Flatten())\n",
    "    model.add(layers.Dense(64, activation='relu'))\n",
    "    model.add(layers.Dense(1, activation='sigmoid'))\n",
    "    return model\n",
    "\n",
    "# Compile and train the model\n",
    "def compile_and_train_model(model, train_images, train_labels, test_images, test_labels):\n",
    "    model.compile(optimizer='adam',\n",
    "                  loss='binary_crossentropy',\n",
    "                  metrics=['accuracy'])\n",
    "\n",
    "    history = model.fit(train_images, train_labels, epochs=10,\n",
    "                        validation_data=(test_images, test_labels))\n",
    "    return history\n",
    "\n",
    "# Evaluate the model\n",
    "def evaluate_model(model, test_images, test_labels):\n",
    "    predictions = model.predict(test_images)\n",
    "    predictions = (predictions > 0.5).astype(int)\n",
    "\n",
    "    print(\"Classification Report:\")\n",
    "    print(classification_report(test_labels, predictions))\n",
    "\n",
    "    print(\"Confusion Matrix:\")\n",
    "    cm = confusion_matrix(test_labels, predictions)\n",
    "    sns.heatmap(cm, annot=True, fmt='d')\n",
    "    plt.xlabel('Predicted')\n",
    "    plt.ylabel('True')\n",
    "    plt.show()\n",
    "\n",
    "    # Compute and print evaluation metrics\n",
    "    precision = precision_score(test_labels, predictions)\n",
    "    recall = recall_score(test_labels, predictions)\n",
    "    f1 = f1_score(test_labels, predictions)\n",
    "    accuracy = accuracy_score(test_labels, predictions)\n",
    "\n",
    "    print(f\"Precision: {precision:.4f}\")\n",
    "    print(f\"Recall: {recall:.4f}\")\n",
    "    print(f\"F1 Score: {f1:.4f}\")\n",
    "    print(f\"Accuracy: {accuracy:.4f}\")\n",
    "\n",
    "# Main execution\n",
    "if __name__ == \"__main__\":\n",
    "    train_images, train_labels, test_images, test_labels = load_preprocess_data()\n",
    "    model = build_model()\n",
    "    compile_and_train_model(model, train_images, train_labels, test_images, test_labels)\n",
    "    evaluate_model(model, test_images, test_labels)\n"
   ]
  }
 ],
 "metadata": {
  "colab": {
   "provenance": []
  },
  "kernelspec": {
   "display_name": "Python 3 (ipykernel)",
   "language": "python",
   "name": "python3"
  },
  "language_info": {
   "codemirror_mode": {
    "name": "ipython",
    "version": 3
   },
   "file_extension": ".py",
   "mimetype": "text/x-python",
   "name": "python",
   "nbconvert_exporter": "python",
   "pygments_lexer": "ipython3",
   "version": "3.9.13"
  }
 },
 "nbformat": 4,
 "nbformat_minor": 1
}
